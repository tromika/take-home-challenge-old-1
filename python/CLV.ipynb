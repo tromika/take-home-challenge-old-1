{
 "cells": [
  {
   "cell_type": "code",
   "execution_count": 1,
   "metadata": {
    "collapsed": true
   },
   "outputs": [],
   "source": [
    "####\n",
    "# Creator;Maintainer: Tamas Szuromi - tromika@gmail.com\n",
    "####"
   ]
  },
  {
   "cell_type": "code",
   "execution_count": null,
   "metadata": {
    "collapsed": true
   },
   "outputs": [],
   "source": []
  },
  {
   "cell_type": "code",
   "execution_count": 59,
   "metadata": {
    "collapsed": false
   },
   "outputs": [],
   "source": [
    "%matplotlib inline\n",
    "\n",
    "import matplotlib\n",
    "import numpy as np\n",
    "import matplotlib.pyplot as plt\n",
    "import pandas as pd\n",
    "\n",
    "from lifetimes import BetaGeoFitter, ModifiedBetaGeoFitter\n",
    "from lifetimes.utils import summary_data_from_transaction_data"
   ]
  },
  {
   "cell_type": "code",
   "execution_count": 2,
   "metadata": {
    "collapsed": false
   },
   "outputs": [],
   "source": [
    "data = pd.read_csv(\"../data/raw/training.csv\")"
   ]
  },
  {
   "cell_type": "code",
   "execution_count": 3,
   "metadata": {
    "collapsed": false
   },
   "outputs": [
    {
     "data": {
      "text/plain": [
       "array(['order_id', 'contact_id', 'purchase_date', 'product_id', 'quantity',\n",
       "       'sales_amount'], dtype=object)"
      ]
     },
     "execution_count": 3,
     "metadata": {},
     "output_type": "execute_result"
    }
   ],
   "source": [
    "data.columns.values"
   ]
  },
  {
   "cell_type": "code",
   "execution_count": 26,
   "metadata": {
    "collapsed": false
   },
   "outputs": [
    {
     "data": {
      "text/plain": [
       "order_id                  int64\n",
       "contact_id                int64\n",
       "purchase_date    datetime64[ns]\n",
       "product_id                int64\n",
       "quantity                  int64\n",
       "sales_amount            float64\n",
       "dtype: object"
      ]
     },
     "execution_count": 26,
     "metadata": {},
     "output_type": "execute_result"
    }
   ],
   "source": [
    "data.dtypes"
   ]
  },
  {
   "cell_type": "code",
   "execution_count": 4,
   "metadata": {
    "collapsed": true
   },
   "outputs": [],
   "source": [
    "data['purchase_date'] = pd.to_datetime(data['purchase_date'])"
   ]
  },
  {
   "cell_type": "code",
   "execution_count": 27,
   "metadata": {
    "collapsed": false
   },
   "outputs": [
    {
     "data": {
      "text/html": [
       "<div>\n",
       "<table border=\"1\" class=\"dataframe\">\n",
       "  <thead>\n",
       "    <tr style=\"text-align: right;\">\n",
       "      <th></th>\n",
       "      <th>order_id</th>\n",
       "      <th>contact_id</th>\n",
       "      <th>purchase_date</th>\n",
       "      <th>product_id</th>\n",
       "      <th>quantity</th>\n",
       "      <th>sales_amount</th>\n",
       "    </tr>\n",
       "  </thead>\n",
       "  <tbody>\n",
       "    <tr>\n",
       "      <th>0</th>\n",
       "      <td>4852169</td>\n",
       "      <td>17846335</td>\n",
       "      <td>2012-01-01</td>\n",
       "      <td>3308032</td>\n",
       "      <td>1</td>\n",
       "      <td>18.71</td>\n",
       "    </tr>\n",
       "    <tr>\n",
       "      <th>1</th>\n",
       "      <td>3570597</td>\n",
       "      <td>18759585</td>\n",
       "      <td>2012-01-01</td>\n",
       "      <td>37220513</td>\n",
       "      <td>2</td>\n",
       "      <td>83.50</td>\n",
       "    </tr>\n",
       "    <tr>\n",
       "      <th>2</th>\n",
       "      <td>32096674</td>\n",
       "      <td>5025194</td>\n",
       "      <td>2012-01-01</td>\n",
       "      <td>10259603</td>\n",
       "      <td>1</td>\n",
       "      <td>19.95</td>\n",
       "    </tr>\n",
       "    <tr>\n",
       "      <th>3</th>\n",
       "      <td>2904402</td>\n",
       "      <td>29624779</td>\n",
       "      <td>2012-01-01</td>\n",
       "      <td>3308032</td>\n",
       "      <td>1</td>\n",
       "      <td>18.71</td>\n",
       "    </tr>\n",
       "    <tr>\n",
       "      <th>4</th>\n",
       "      <td>38369470</td>\n",
       "      <td>42287117</td>\n",
       "      <td>2012-01-01</td>\n",
       "      <td>3308032</td>\n",
       "      <td>1</td>\n",
       "      <td>18.71</td>\n",
       "    </tr>\n",
       "  </tbody>\n",
       "</table>\n",
       "</div>"
      ],
      "text/plain": [
       "   order_id  contact_id purchase_date  product_id  quantity  sales_amount\n",
       "0   4852169    17846335    2012-01-01     3308032         1         18.71\n",
       "1   3570597    18759585    2012-01-01    37220513         2         83.50\n",
       "2  32096674     5025194    2012-01-01    10259603         1         19.95\n",
       "3   2904402    29624779    2012-01-01     3308032         1         18.71\n",
       "4  38369470    42287117    2012-01-01     3308032         1         18.71"
      ]
     },
     "execution_count": 27,
     "metadata": {},
     "output_type": "execute_result"
    }
   ],
   "source": [
    "data.head()"
   ]
  },
  {
   "cell_type": "code",
   "execution_count": 102,
   "metadata": {
    "collapsed": false
   },
   "outputs": [],
   "source": [
    "from sklearn.cluster import KMeans\n",
    "dataCopy = data[['quantity','sales_amount']]\n",
    "outliersModel = KMeans(n_clusters=2)\n",
    "outliersModelFit = outliersModel.fit(dataCopy)"
   ]
  },
  {
   "cell_type": "code",
   "execution_count": 107,
   "metadata": {
    "collapsed": false
   },
   "outputs": [
    {
     "data": {
      "text/html": [
       "<div>\n",
       "<table border=\"1\" class=\"dataframe\">\n",
       "  <thead>\n",
       "    <tr style=\"text-align: right;\">\n",
       "      <th></th>\n",
       "      <th>quantity</th>\n",
       "      <th>sales_amount</th>\n",
       "      <th>cluster</th>\n",
       "    </tr>\n",
       "  </thead>\n",
       "  <tbody>\n",
       "    <tr>\n",
       "      <th>8</th>\n",
       "      <td>1</td>\n",
       "      <td>239.95</td>\n",
       "      <td>1</td>\n",
       "    </tr>\n",
       "    <tr>\n",
       "      <th>36</th>\n",
       "      <td>1</td>\n",
       "      <td>324.28</td>\n",
       "      <td>1</td>\n",
       "    </tr>\n",
       "    <tr>\n",
       "      <th>37</th>\n",
       "      <td>1</td>\n",
       "      <td>321.43</td>\n",
       "      <td>1</td>\n",
       "    </tr>\n",
       "    <tr>\n",
       "      <th>47</th>\n",
       "      <td>1</td>\n",
       "      <td>195.95</td>\n",
       "      <td>1</td>\n",
       "    </tr>\n",
       "    <tr>\n",
       "      <th>60</th>\n",
       "      <td>1</td>\n",
       "      <td>207.95</td>\n",
       "      <td>1</td>\n",
       "    </tr>\n",
       "    <tr>\n",
       "      <th>62</th>\n",
       "      <td>1</td>\n",
       "      <td>199.95</td>\n",
       "      <td>1</td>\n",
       "    </tr>\n",
       "    <tr>\n",
       "      <th>105</th>\n",
       "      <td>1</td>\n",
       "      <td>297.00</td>\n",
       "      <td>1</td>\n",
       "    </tr>\n",
       "    <tr>\n",
       "      <th>139</th>\n",
       "      <td>4</td>\n",
       "      <td>199.60</td>\n",
       "      <td>1</td>\n",
       "    </tr>\n",
       "    <tr>\n",
       "      <th>149</th>\n",
       "      <td>1</td>\n",
       "      <td>233.95</td>\n",
       "      <td>1</td>\n",
       "    </tr>\n",
       "    <tr>\n",
       "      <th>173</th>\n",
       "      <td>1</td>\n",
       "      <td>199.95</td>\n",
       "      <td>1</td>\n",
       "    </tr>\n",
       "  </tbody>\n",
       "</table>\n",
       "</div>"
      ],
      "text/plain": [
       "     quantity  sales_amount  cluster\n",
       "8           1        239.95        1\n",
       "36          1        324.28        1\n",
       "37          1        321.43        1\n",
       "47          1        195.95        1\n",
       "60          1        207.95        1\n",
       "62          1        199.95        1\n",
       "105         1        297.00        1\n",
       "139         4        199.60        1\n",
       "149         1        233.95        1\n",
       "173         1        199.95        1"
      ]
     },
     "execution_count": 107,
     "metadata": {},
     "output_type": "execute_result"
    }
   ],
   "source": [
    "dataClustered[dataClustered.cluster == 1][:10]\n"
   ]
  },
  {
   "cell_type": "code",
   "execution_count": 111,
   "metadata": {
    "collapsed": false
   },
   "outputs": [
    {
     "data": {
      "image/png": "[encoded data removed]",
      "text/plain": [
       "<matplotlib.figure.Figure at 0x11e2fb990>"
      ]
     },
     "metadata": {},
     "output_type": "display_data"
    }
   ],
   "source": [
    "from matplotlib import pyplot\n",
    "dataClustered.plot(kind='scatter', x='sales_amount', y='quantity', c='cluster')\n"
   ]
  },
  {
   "cell_type": "code",
   "execution_count": null,
   "metadata": {
    "collapsed": false
   },
   "outputs": [],
   "source": [
    "from sklearn import svm\n",
    "clf = svm.OneClassSVM(nu=0.1, kernel=\"rbf\", gamma=0.1)\n",
    "clf.fit(dataCopy)"
   ]
  },
  {
   "cell_type": "code",
   "execution_count": null,
   "metadata": {
    "collapsed": true
   },
   "outputs": [],
   "source": [
    "clf.predict(dataCopy)"
   ]
  },
  {
   "cell_type": "code",
   "execution_count": 93,
   "metadata": {
    "collapsed": false
   },
   "outputs": [],
   "source": [
    "dataFiltered = data[data.sales_amount>0]\n",
    "inputData = dataFiltered.groupby(['contact_id', 'order_id']).agg({'sales_amount': np.sum, 'purchase_date':'first'}).reset_index()"
   ]
  },
  {
   "cell_type": "code",
   "execution_count": 94,
   "metadata": {
    "collapsed": false
   },
   "outputs": [
    {
     "data": {
      "text/html": [
       "<div>\n",
       "<table border=\"1\" class=\"dataframe\">\n",
       "  <thead>\n",
       "    <tr style=\"text-align: right;\">\n",
       "      <th></th>\n",
       "      <th>contact_id</th>\n",
       "      <th>order_id</th>\n",
       "      <th>purchase_date</th>\n",
       "      <th>sales_amount</th>\n",
       "    </tr>\n",
       "  </thead>\n",
       "  <tbody>\n",
       "    <tr>\n",
       "      <th>0</th>\n",
       "      <td>22</td>\n",
       "      <td>20931901</td>\n",
       "      <td>2012-01-03</td>\n",
       "      <td>27.45</td>\n",
       "    </tr>\n",
       "    <tr>\n",
       "      <th>1</th>\n",
       "      <td>445</td>\n",
       "      <td>36058004</td>\n",
       "      <td>2012-11-22</td>\n",
       "      <td>131.85</td>\n",
       "    </tr>\n",
       "    <tr>\n",
       "      <th>2</th>\n",
       "      <td>665</td>\n",
       "      <td>15515069</td>\n",
       "      <td>2013-06-06</td>\n",
       "      <td>309.47</td>\n",
       "    </tr>\n",
       "    <tr>\n",
       "      <th>3</th>\n",
       "      <td>734</td>\n",
       "      <td>30699049</td>\n",
       "      <td>2013-05-07</td>\n",
       "      <td>69.90</td>\n",
       "    </tr>\n",
       "    <tr>\n",
       "      <th>4</th>\n",
       "      <td>884</td>\n",
       "      <td>2789595</td>\n",
       "      <td>2013-03-21</td>\n",
       "      <td>254.85</td>\n",
       "    </tr>\n",
       "  </tbody>\n",
       "</table>\n",
       "</div>"
      ],
      "text/plain": [
       "   contact_id  order_id purchase_date  sales_amount\n",
       "0          22  20931901    2012-01-03         27.45\n",
       "1         445  36058004    2012-11-22        131.85\n",
       "2         665  15515069    2013-06-06        309.47\n",
       "3         734  30699049    2013-05-07         69.90\n",
       "4         884   2789595    2013-03-21        254.85"
      ]
     },
     "execution_count": 94,
     "metadata": {},
     "output_type": "execute_result"
    }
   ],
   "source": [
    "inputData.head()"
   ]
  },
  {
   "cell_type": "code",
   "execution_count": 95,
   "metadata": {
    "collapsed": false
   },
   "outputs": [],
   "source": [
    "trainingSet = summary_data_from_transaction_data(inputData, 'contact_id', 'purchase_date', monetary_value_col= 'sales_amount', freq='M',observation_period_end='2013-12-31')"
   ]
  },
  {
   "cell_type": "code",
   "execution_count": 31,
   "metadata": {
    "collapsed": false
   },
   "outputs": [
    {
     "data": {
      "text/plain": [
       "array(['frequency', 'recency', 'T', 'monetary_value'], dtype=object)"
      ]
     },
     "execution_count": 31,
     "metadata": {},
     "output_type": "execute_result"
    }
   ],
   "source": [
    "trainingSet.columns.values"
   ]
  },
  {
   "cell_type": "code",
   "execution_count": 97,
   "metadata": {
    "collapsed": false
   },
   "outputs": [
    {
     "name": "stdout",
     "output_type": "stream",
     "text": [
      "<lifetimes.ModifiedBetaGeoFitter: fitted with 262294 subjects, a: 0.81, alpha: 7.20, b: 0.68, r: 0.59>\n"
     ]
    }
   ],
   "source": [
    "bgf = ModifiedBetaGeoFitter(penalizer_coef=0.0001)\n",
    "bgf.fit(trainingSet['frequency'], trainingSet['recency'], trainingSet['T'])\n",
    "print bgf"
   ]
  },
  {
   "cell_type": "code",
   "execution_count": 98,
   "metadata": {
    "collapsed": false
   },
   "outputs": [
    {
     "data": {
      "text/plain": [
       "<matplotlib.axes._subplots.AxesSubplot at 0x11b155850>"
      ]
     },
     "execution_count": 98,
     "metadata": {},
     "output_type": "execute_result"
    },
    {
     "data": {
      "image/png": "[encoded data removed]",
      "text/plain": [
       "<matplotlib.figure.Figure at 0x11f708390>"
      ]
     },
     "metadata": {},
     "output_type": "display_data"
    }
   ],
   "source": [
    "from lifetimes.plotting import plot_period_transactions\n",
    "plot_period_transactions(bgf)"
   ]
  },
  {
   "cell_type": "code",
   "execution_count": 99,
   "metadata": {
    "collapsed": false
   },
   "outputs": [
    {
     "data": {
      "text/plain": [
       "<matplotlib.axes._subplots.AxesSubplot at 0x11b6d0750>"
      ]
     },
     "execution_count": 99,
     "metadata": {},
     "output_type": "execute_result"
    },
    {
     "data": {
      "image/png": "[encoded data removed]",
      "text/plain": [
       "<matplotlib.figure.Figure at 0x119422d10>"
      ]
     },
     "metadata": {},
     "output_type": "display_data"
    }
   ],
   "source": [
    "from lifetimes.plotting import plot_calibration_purchases_vs_holdout_purchases\n",
    "from lifetimes.utils import calibration_and_holdout_data\n",
    "\n",
    "summary_cal_holdout = calibration_and_holdout_data(data, 'contact_id', 'purchase_date', \n",
    "                                        calibration_period_end='2013-11-30',\n",
    "                                        observation_period_end='2013-12-31', \n",
    "                                        freq='M' )   \n",
    "bgfVal = ModifiedBetaGeoFitter(penalizer_coef=0.0001)\n",
    "bgfVal.fit(summary_cal_holdout['frequency_cal'], summary_cal_holdout['recency_cal'], summary_cal_holdout['T_cal'])\n",
    "plot_calibration_purchases_vs_holdout_purchases(bgfVal, summary_cal_holdout)"
   ]
  },
  {
   "cell_type": "code",
   "execution_count": 100,
   "metadata": {
    "collapsed": false
   },
   "outputs": [
    {
     "name": "stdout",
     "output_type": "stream",
     "text": [
      "<lifetimes.GammaGammaFitter: fitted with 49158 subjects, p: 8.00, q: 1.87, v: 11.84>\n"
     ]
    }
   ],
   "source": [
    "from lifetimes import GammaGammaFitter\n",
    "\n",
    "ReturningtTrainingSet = trainingSet[trainingSet['frequency']>0]\n",
    "ggf = GammaGammaFitter(penalizer_coef = 0.0001)\n",
    "ggf.fit(ReturningtTrainingSet['frequency'],\n",
    "        ReturningtTrainingSet['monetary_value'])\n",
    "print ggf  "
   ]
  },
  {
   "cell_type": "code",
   "execution_count": 101,
   "metadata": {
    "collapsed": false
   },
   "outputs": [
    {
     "name": "stdout",
     "output_type": "stream",
     "text": [
      "Expected conditional average profit: 106.802220854, Average profit: 95.773102981\n"
     ]
    }
   ],
   "source": [
    "print \"Expected conditional average profit: %s, Average profit: %s\" % (\n",
    "    ggf.conditional_expected_average_profit(\n",
    "        trainingSet['frequency'],\n",
    "        trainingSet['monetary_value']\n",
    "    ).mean(),\n",
    "    trainingSet[trainingSet['frequency']>0]['monetary_value'].mean()\n",
    ")"
   ]
  },
  {
   "cell_type": "code",
   "execution_count": 102,
   "metadata": {
    "collapsed": false
   },
   "outputs": [
    {
     "data": {
      "text/plain": [
       "17.94937816473854"
      ]
     },
     "execution_count": 102,
     "metadata": {},
     "output_type": "execute_result"
    }
   ],
   "source": [
    "trainingSet['monetary_value'].mean()"
   ]
  },
  {
   "cell_type": "code",
   "execution_count": 103,
   "metadata": {
    "collapsed": false
   },
   "outputs": [],
   "source": [
    "\n",
    "pred = ggf.customer_lifetime_value(\n",
    "    bgf, #the model to use to predict the number of future transactions\n",
    "    trainingSet['frequency'],\n",
    "    trainingSet['recency'],\n",
    "    trainingSet['T'],\n",
    "    trainingSet['monetary_value'],\n",
    "    time=12 \n",
    ")"
   ]
  },
  {
   "cell_type": "code",
   "execution_count": 104,
   "metadata": {
    "collapsed": false
   },
   "outputs": [
    {
     "data": {
      "text/plain": [
       "231.835348598105"
      ]
     },
     "execution_count": 104,
     "metadata": {},
     "output_type": "execute_result"
    }
   ],
   "source": [
    "pred.sum()/len(pred)"
   ]
  },
  {
   "cell_type": "code",
   "execution_count": 77,
   "metadata": {
    "collapsed": false
   },
   "outputs": [
    {
     "data": {
      "text/plain": [
       "contact_id\n",
       "17846335        72.015935\n",
       "18759585        73.048891\n",
       "5025194      78162.372472\n",
       "29624779       242.480114\n",
       "42287117      1593.911720\n",
       "34476502        73.048891\n",
       "14603912        73.048891\n",
       "10412066      1094.485827\n",
       "35117040    331200.801813\n",
       "38480502        73.048891\n",
       "379181         192.984457\n",
       "12593742        73.048891\n",
       "896883          73.048891\n",
       "48131541        73.048891\n",
       "14484783        73.048891\n",
       "22313976       518.931238\n",
       "33273808        73.048891\n",
       "29744836        73.048891\n",
       "19963302        36.452186\n",
       "21619514       178.793393\n",
       "24617743        88.846985\n",
       "6378578         73.048891\n",
       "20348355        73.048891\n",
       "42667011        73.048891\n",
       "48809774        92.114913\n",
       "13210358        73.048891\n",
       "33511025        78.378901\n",
       "19020767        73.048891\n",
       "26688536        73.048891\n",
       "779333          85.971143\n",
       "                ...      \n",
       "28869543       250.711005\n",
       "5846937        250.711005\n",
       "11440635       250.711005\n",
       "33370316       250.711005\n",
       "46231654       250.711005\n",
       "24374419       250.711005\n",
       "31784603       250.711005\n",
       "39091570       250.711005\n",
       "36426364       250.711005\n",
       "47927664       250.711005\n",
       "35930679       250.711005\n",
       "11849723       250.711005\n",
       "2020837        250.711005\n",
       "16229650       250.711005\n",
       "20326434       250.711005\n",
       "27767945       250.711005\n",
       "12076066       250.711005\n",
       "7858619        250.711005\n",
       "13254535       250.711005\n",
       "21484401       250.711005\n",
       "18867756       250.711005\n",
       "8441734        250.711005\n",
       "2323148        250.711005\n",
       "36122055       250.711005\n",
       "14282501       250.711005\n",
       "18593837       250.711005\n",
       "49274093       250.711005\n",
       "21548682       250.711005\n",
       "23136841       250.711005\n",
       "2444081        250.711005\n",
       "Name: clv, dtype: float64"
      ]
     },
     "execution_count": 77,
     "metadata": {},
     "output_type": "execute_result"
    }
   ],
   "source": [
    "pred"
   ]
  },
  {
   "cell_type": "code",
   "execution_count": 78,
   "metadata": {
    "collapsed": false
   },
   "outputs": [
    {
     "data": {
      "text/html": [
       "<div>\n",
       "<table border=\"1\" class=\"dataframe\">\n",
       "  <thead>\n",
       "    <tr style=\"text-align: right;\">\n",
       "      <th></th>\n",
       "      <th>order_id</th>\n",
       "      <th>contact_id</th>\n",
       "      <th>purchase_date</th>\n",
       "      <th>product_id</th>\n",
       "      <th>quantity</th>\n",
       "      <th>sales_amount</th>\n",
       "    </tr>\n",
       "  </thead>\n",
       "  <tbody>\n",
       "    <tr>\n",
       "      <th>9</th>\n",
       "      <td>37889477</td>\n",
       "      <td>35117040</td>\n",
       "      <td>2012-01-01</td>\n",
       "      <td>21103908</td>\n",
       "      <td>1</td>\n",
       "      <td>37.95</td>\n",
       "    </tr>\n",
       "    <tr>\n",
       "      <th>719</th>\n",
       "      <td>43499615</td>\n",
       "      <td>35117040</td>\n",
       "      <td>2012-01-01</td>\n",
       "      <td>33790769</td>\n",
       "      <td>1</td>\n",
       "      <td>27.95</td>\n",
       "    </tr>\n",
       "    <tr>\n",
       "      <th>721</th>\n",
       "      <td>9468804</td>\n",
       "      <td>35117040</td>\n",
       "      <td>2012-01-01</td>\n",
       "      <td>45512815</td>\n",
       "      <td>2</td>\n",
       "      <td>62.10</td>\n",
       "    </tr>\n",
       "    <tr>\n",
       "      <th>730</th>\n",
       "      <td>48336741</td>\n",
       "      <td>35117040</td>\n",
       "      <td>2012-01-01</td>\n",
       "      <td>45512815</td>\n",
       "      <td>1</td>\n",
       "      <td>31.05</td>\n",
       "    </tr>\n",
       "    <tr>\n",
       "      <th>1552</th>\n",
       "      <td>49010426</td>\n",
       "      <td>35117040</td>\n",
       "      <td>2012-01-02</td>\n",
       "      <td>12955210</td>\n",
       "      <td>1</td>\n",
       "      <td>49.95</td>\n",
       "    </tr>\n",
       "    <tr>\n",
       "      <th>1564</th>\n",
       "      <td>23840176</td>\n",
       "      <td>35117040</td>\n",
       "      <td>2012-01-02</td>\n",
       "      <td>11094043</td>\n",
       "      <td>1</td>\n",
       "      <td>59.95</td>\n",
       "    </tr>\n",
       "    <tr>\n",
       "      <th>1621</th>\n",
       "      <td>9130987</td>\n",
       "      <td>35117040</td>\n",
       "      <td>2012-01-02</td>\n",
       "      <td>26464890</td>\n",
       "      <td>1</td>\n",
       "      <td>22.80</td>\n",
       "    </tr>\n",
       "    <tr>\n",
       "      <th>1640</th>\n",
       "      <td>19723165</td>\n",
       "      <td>35117040</td>\n",
       "      <td>2012-01-02</td>\n",
       "      <td>26464890</td>\n",
       "      <td>1</td>\n",
       "      <td>22.80</td>\n",
       "    </tr>\n",
       "    <tr>\n",
       "      <th>1644</th>\n",
       "      <td>46216881</td>\n",
       "      <td>35117040</td>\n",
       "      <td>2012-01-02</td>\n",
       "      <td>15168109</td>\n",
       "      <td>1</td>\n",
       "      <td>19.95</td>\n",
       "    </tr>\n",
       "    <tr>\n",
       "      <th>1658</th>\n",
       "      <td>48162437</td>\n",
       "      <td>35117040</td>\n",
       "      <td>2012-01-02</td>\n",
       "      <td>26441892</td>\n",
       "      <td>1</td>\n",
       "      <td>66.95</td>\n",
       "    </tr>\n",
       "    <tr>\n",
       "      <th>2787</th>\n",
       "      <td>3467155</td>\n",
       "      <td>35117040</td>\n",
       "      <td>2012-01-03</td>\n",
       "      <td>35447565</td>\n",
       "      <td>2</td>\n",
       "      <td>57.90</td>\n",
       "    </tr>\n",
       "    <tr>\n",
       "      <th>2792</th>\n",
       "      <td>14219382</td>\n",
       "      <td>35117040</td>\n",
       "      <td>2012-01-03</td>\n",
       "      <td>5307581</td>\n",
       "      <td>1</td>\n",
       "      <td>15.50</td>\n",
       "    </tr>\n",
       "    <tr>\n",
       "      <th>2819</th>\n",
       "      <td>29519306</td>\n",
       "      <td>35117040</td>\n",
       "      <td>2012-01-03</td>\n",
       "      <td>23417866</td>\n",
       "      <td>1</td>\n",
       "      <td>21.00</td>\n",
       "    </tr>\n",
       "    <tr>\n",
       "      <th>2825</th>\n",
       "      <td>40586694</td>\n",
       "      <td>35117040</td>\n",
       "      <td>2012-01-03</td>\n",
       "      <td>2032543</td>\n",
       "      <td>2</td>\n",
       "      <td>93.90</td>\n",
       "    </tr>\n",
       "    <tr>\n",
       "      <th>2829</th>\n",
       "      <td>46867549</td>\n",
       "      <td>35117040</td>\n",
       "      <td>2012-01-03</td>\n",
       "      <td>141052</td>\n",
       "      <td>1</td>\n",
       "      <td>32.95</td>\n",
       "    </tr>\n",
       "    <tr>\n",
       "      <th>2887</th>\n",
       "      <td>28246578</td>\n",
       "      <td>35117040</td>\n",
       "      <td>2012-01-04</td>\n",
       "      <td>47044011</td>\n",
       "      <td>1</td>\n",
       "      <td>44.95</td>\n",
       "    </tr>\n",
       "    <tr>\n",
       "      <th>2891</th>\n",
       "      <td>4761418</td>\n",
       "      <td>35117040</td>\n",
       "      <td>2012-01-04</td>\n",
       "      <td>47044011</td>\n",
       "      <td>1</td>\n",
       "      <td>44.95</td>\n",
       "    </tr>\n",
       "    <tr>\n",
       "      <th>2896</th>\n",
       "      <td>23984574</td>\n",
       "      <td>35117040</td>\n",
       "      <td>2012-01-04</td>\n",
       "      <td>45512815</td>\n",
       "      <td>1</td>\n",
       "      <td>34.95</td>\n",
       "    </tr>\n",
       "    <tr>\n",
       "      <th>2900</th>\n",
       "      <td>15843185</td>\n",
       "      <td>35117040</td>\n",
       "      <td>2012-01-04</td>\n",
       "      <td>11094043</td>\n",
       "      <td>1</td>\n",
       "      <td>59.95</td>\n",
       "    </tr>\n",
       "    <tr>\n",
       "      <th>3760</th>\n",
       "      <td>9759724</td>\n",
       "      <td>35117040</td>\n",
       "      <td>2012-01-04</td>\n",
       "      <td>16386984</td>\n",
       "      <td>1</td>\n",
       "      <td>24.95</td>\n",
       "    </tr>\n",
       "    <tr>\n",
       "      <th>3813</th>\n",
       "      <td>14834912</td>\n",
       "      <td>35117040</td>\n",
       "      <td>2012-01-05</td>\n",
       "      <td>38145225</td>\n",
       "      <td>1</td>\n",
       "      <td>55.96</td>\n",
       "    </tr>\n",
       "    <tr>\n",
       "      <th>3815</th>\n",
       "      <td>34208448</td>\n",
       "      <td>35117040</td>\n",
       "      <td>2012-01-05</td>\n",
       "      <td>141052</td>\n",
       "      <td>1</td>\n",
       "      <td>32.95</td>\n",
       "    </tr>\n",
       "    <tr>\n",
       "      <th>3819</th>\n",
       "      <td>30414713</td>\n",
       "      <td>35117040</td>\n",
       "      <td>2012-01-05</td>\n",
       "      <td>26464890</td>\n",
       "      <td>1</td>\n",
       "      <td>22.80</td>\n",
       "    </tr>\n",
       "    <tr>\n",
       "      <th>3829</th>\n",
       "      <td>34479561</td>\n",
       "      <td>35117040</td>\n",
       "      <td>2012-01-05</td>\n",
       "      <td>141052</td>\n",
       "      <td>1</td>\n",
       "      <td>32.95</td>\n",
       "    </tr>\n",
       "    <tr>\n",
       "      <th>3831</th>\n",
       "      <td>16057149</td>\n",
       "      <td>35117040</td>\n",
       "      <td>2012-01-05</td>\n",
       "      <td>47044011</td>\n",
       "      <td>1</td>\n",
       "      <td>44.95</td>\n",
       "    </tr>\n",
       "    <tr>\n",
       "      <th>4178</th>\n",
       "      <td>19205586</td>\n",
       "      <td>35117040</td>\n",
       "      <td>2012-01-05</td>\n",
       "      <td>11458735</td>\n",
       "      <td>1</td>\n",
       "      <td>14.00</td>\n",
       "    </tr>\n",
       "    <tr>\n",
       "      <th>4993</th>\n",
       "      <td>13527229</td>\n",
       "      <td>35117040</td>\n",
       "      <td>2012-01-05</td>\n",
       "      <td>21103908</td>\n",
       "      <td>1</td>\n",
       "      <td>37.95</td>\n",
       "    </tr>\n",
       "    <tr>\n",
       "      <th>5006</th>\n",
       "      <td>40122773</td>\n",
       "      <td>35117040</td>\n",
       "      <td>2012-01-05</td>\n",
       "      <td>11681788</td>\n",
       "      <td>2</td>\n",
       "      <td>119.90</td>\n",
       "    </tr>\n",
       "    <tr>\n",
       "      <th>5013</th>\n",
       "      <td>13476972</td>\n",
       "      <td>35117040</td>\n",
       "      <td>2012-01-05</td>\n",
       "      <td>11681788</td>\n",
       "      <td>1</td>\n",
       "      <td>59.95</td>\n",
       "    </tr>\n",
       "    <tr>\n",
       "      <th>5028</th>\n",
       "      <td>7801923</td>\n",
       "      <td>35117040</td>\n",
       "      <td>2012-01-05</td>\n",
       "      <td>11458735</td>\n",
       "      <td>1</td>\n",
       "      <td>14.00</td>\n",
       "    </tr>\n",
       "    <tr>\n",
       "      <th>...</th>\n",
       "      <td>...</td>\n",
       "      <td>...</td>\n",
       "      <td>...</td>\n",
       "      <td>...</td>\n",
       "      <td>...</td>\n",
       "      <td>...</td>\n",
       "    </tr>\n",
       "    <tr>\n",
       "      <th>530928</th>\n",
       "      <td>26344821</td>\n",
       "      <td>35117040</td>\n",
       "      <td>2013-12-11</td>\n",
       "      <td>29153331</td>\n",
       "      <td>1</td>\n",
       "      <td>24.95</td>\n",
       "    </tr>\n",
       "    <tr>\n",
       "      <th>530930</th>\n",
       "      <td>15232692</td>\n",
       "      <td>35117040</td>\n",
       "      <td>2013-12-11</td>\n",
       "      <td>29153331</td>\n",
       "      <td>1</td>\n",
       "      <td>24.95</td>\n",
       "    </tr>\n",
       "    <tr>\n",
       "      <th>530931</th>\n",
       "      <td>2857257</td>\n",
       "      <td>35117040</td>\n",
       "      <td>2013-12-11</td>\n",
       "      <td>49963639</td>\n",
       "      <td>1</td>\n",
       "      <td>49.95</td>\n",
       "    </tr>\n",
       "    <tr>\n",
       "      <th>532020</th>\n",
       "      <td>12667268</td>\n",
       "      <td>35117040</td>\n",
       "      <td>2013-12-12</td>\n",
       "      <td>29153331</td>\n",
       "      <td>1</td>\n",
       "      <td>24.95</td>\n",
       "    </tr>\n",
       "    <tr>\n",
       "      <th>532021</th>\n",
       "      <td>43801088</td>\n",
       "      <td>35117040</td>\n",
       "      <td>2013-12-12</td>\n",
       "      <td>29153331</td>\n",
       "      <td>1</td>\n",
       "      <td>24.95</td>\n",
       "    </tr>\n",
       "    <tr>\n",
       "      <th>532023</th>\n",
       "      <td>48920054</td>\n",
       "      <td>35117040</td>\n",
       "      <td>2013-12-12</td>\n",
       "      <td>49808416</td>\n",
       "      <td>1</td>\n",
       "      <td>26.95</td>\n",
       "    </tr>\n",
       "    <tr>\n",
       "      <th>532026</th>\n",
       "      <td>36384394</td>\n",
       "      <td>35117040</td>\n",
       "      <td>2013-12-12</td>\n",
       "      <td>29153331</td>\n",
       "      <td>1</td>\n",
       "      <td>24.95</td>\n",
       "    </tr>\n",
       "    <tr>\n",
       "      <th>532970</th>\n",
       "      <td>27153485</td>\n",
       "      <td>35117040</td>\n",
       "      <td>2013-12-13</td>\n",
       "      <td>23956304</td>\n",
       "      <td>1</td>\n",
       "      <td>33.95</td>\n",
       "    </tr>\n",
       "    <tr>\n",
       "      <th>532974</th>\n",
       "      <td>26833718</td>\n",
       "      <td>35117040</td>\n",
       "      <td>2013-12-13</td>\n",
       "      <td>26441892</td>\n",
       "      <td>1</td>\n",
       "      <td>49.95</td>\n",
       "    </tr>\n",
       "    <tr>\n",
       "      <th>532982</th>\n",
       "      <td>24779985</td>\n",
       "      <td>35117040</td>\n",
       "      <td>2013-12-13</td>\n",
       "      <td>10433526</td>\n",
       "      <td>1</td>\n",
       "      <td>94.95</td>\n",
       "    </tr>\n",
       "    <tr>\n",
       "      <th>534720</th>\n",
       "      <td>44083616</td>\n",
       "      <td>35117040</td>\n",
       "      <td>2013-12-15</td>\n",
       "      <td>23397129</td>\n",
       "      <td>1</td>\n",
       "      <td>159.95</td>\n",
       "    </tr>\n",
       "    <tr>\n",
       "      <th>534722</th>\n",
       "      <td>24516430</td>\n",
       "      <td>35117040</td>\n",
       "      <td>2013-12-15</td>\n",
       "      <td>37891395</td>\n",
       "      <td>1</td>\n",
       "      <td>94.95</td>\n",
       "    </tr>\n",
       "    <tr>\n",
       "      <th>535702</th>\n",
       "      <td>5588161</td>\n",
       "      <td>35117040</td>\n",
       "      <td>2013-12-16</td>\n",
       "      <td>26441892</td>\n",
       "      <td>1</td>\n",
       "      <td>49.95</td>\n",
       "    </tr>\n",
       "    <tr>\n",
       "      <th>535703</th>\n",
       "      <td>8806852</td>\n",
       "      <td>35117040</td>\n",
       "      <td>2013-12-16</td>\n",
       "      <td>21282695</td>\n",
       "      <td>1</td>\n",
       "      <td>43.95</td>\n",
       "    </tr>\n",
       "    <tr>\n",
       "      <th>535705</th>\n",
       "      <td>27548337</td>\n",
       "      <td>35117040</td>\n",
       "      <td>2013-12-16</td>\n",
       "      <td>26441892</td>\n",
       "      <td>1</td>\n",
       "      <td>49.95</td>\n",
       "    </tr>\n",
       "    <tr>\n",
       "      <th>536893</th>\n",
       "      <td>24100295</td>\n",
       "      <td>35117040</td>\n",
       "      <td>2013-12-17</td>\n",
       "      <td>49963639</td>\n",
       "      <td>1</td>\n",
       "      <td>57.95</td>\n",
       "    </tr>\n",
       "    <tr>\n",
       "      <th>536895</th>\n",
       "      <td>2779736</td>\n",
       "      <td>35117040</td>\n",
       "      <td>2013-12-17</td>\n",
       "      <td>26441892</td>\n",
       "      <td>1</td>\n",
       "      <td>74.95</td>\n",
       "    </tr>\n",
       "    <tr>\n",
       "      <th>536896</th>\n",
       "      <td>34668610</td>\n",
       "      <td>35117040</td>\n",
       "      <td>2013-12-17</td>\n",
       "      <td>23397129</td>\n",
       "      <td>1</td>\n",
       "      <td>159.95</td>\n",
       "    </tr>\n",
       "    <tr>\n",
       "      <th>537860</th>\n",
       "      <td>12475224</td>\n",
       "      <td>35117040</td>\n",
       "      <td>2013-12-18</td>\n",
       "      <td>49808416</td>\n",
       "      <td>1</td>\n",
       "      <td>26.95</td>\n",
       "    </tr>\n",
       "    <tr>\n",
       "      <th>537864</th>\n",
       "      <td>26975786</td>\n",
       "      <td>35117040</td>\n",
       "      <td>2013-12-18</td>\n",
       "      <td>26441892</td>\n",
       "      <td>1</td>\n",
       "      <td>74.95</td>\n",
       "    </tr>\n",
       "    <tr>\n",
       "      <th>538590</th>\n",
       "      <td>37963777</td>\n",
       "      <td>35117040</td>\n",
       "      <td>2013-12-19</td>\n",
       "      <td>49808416</td>\n",
       "      <td>1</td>\n",
       "      <td>26.95</td>\n",
       "    </tr>\n",
       "    <tr>\n",
       "      <th>538592</th>\n",
       "      <td>12508328</td>\n",
       "      <td>35117040</td>\n",
       "      <td>2013-12-19</td>\n",
       "      <td>30242985</td>\n",
       "      <td>1</td>\n",
       "      <td>99.99</td>\n",
       "    </tr>\n",
       "    <tr>\n",
       "      <th>539242</th>\n",
       "      <td>11407057</td>\n",
       "      <td>35117040</td>\n",
       "      <td>2013-12-20</td>\n",
       "      <td>11681788</td>\n",
       "      <td>1</td>\n",
       "      <td>53.95</td>\n",
       "    </tr>\n",
       "    <tr>\n",
       "      <th>540110</th>\n",
       "      <td>21273647</td>\n",
       "      <td>35117040</td>\n",
       "      <td>2013-12-21</td>\n",
       "      <td>49808416</td>\n",
       "      <td>1</td>\n",
       "      <td>26.95</td>\n",
       "    </tr>\n",
       "    <tr>\n",
       "      <th>540566</th>\n",
       "      <td>28903379</td>\n",
       "      <td>35117040</td>\n",
       "      <td>2013-12-23</td>\n",
       "      <td>49808416</td>\n",
       "      <td>1</td>\n",
       "      <td>26.95</td>\n",
       "    </tr>\n",
       "    <tr>\n",
       "      <th>540567</th>\n",
       "      <td>9700298</td>\n",
       "      <td>35117040</td>\n",
       "      <td>2013-12-23</td>\n",
       "      <td>49808416</td>\n",
       "      <td>1</td>\n",
       "      <td>26.95</td>\n",
       "    </tr>\n",
       "    <tr>\n",
       "      <th>541243</th>\n",
       "      <td>28357114</td>\n",
       "      <td>35117040</td>\n",
       "      <td>2013-12-25</td>\n",
       "      <td>26360738</td>\n",
       "      <td>1</td>\n",
       "      <td>29.95</td>\n",
       "    </tr>\n",
       "    <tr>\n",
       "      <th>543469</th>\n",
       "      <td>14485830</td>\n",
       "      <td>35117040</td>\n",
       "      <td>2013-12-30</td>\n",
       "      <td>26441892</td>\n",
       "      <td>1</td>\n",
       "      <td>47.95</td>\n",
       "    </tr>\n",
       "    <tr>\n",
       "      <th>543470</th>\n",
       "      <td>33887701</td>\n",
       "      <td>35117040</td>\n",
       "      <td>2013-12-30</td>\n",
       "      <td>5307581</td>\n",
       "      <td>1</td>\n",
       "      <td>9.95</td>\n",
       "    </tr>\n",
       "    <tr>\n",
       "      <th>543794</th>\n",
       "      <td>34402749</td>\n",
       "      <td>35117040</td>\n",
       "      <td>2013-12-30</td>\n",
       "      <td>5307581</td>\n",
       "      <td>1</td>\n",
       "      <td>9.95</td>\n",
       "    </tr>\n",
       "  </tbody>\n",
       "</table>\n",
       "<p>2356 rows × 6 columns</p>\n",
       "</div>"
      ],
      "text/plain": [
       "        order_id  contact_id purchase_date  product_id  quantity  sales_amount\n",
       "9       37889477    35117040    2012-01-01    21103908         1         37.95\n",
       "719     43499615    35117040    2012-01-01    33790769         1         27.95\n",
       "721      9468804    35117040    2012-01-01    45512815         2         62.10\n",
       "730     48336741    35117040    2012-01-01    45512815         1         31.05\n",
       "1552    49010426    35117040    2012-01-02    12955210         1         49.95\n",
       "1564    23840176    35117040    2012-01-02    11094043         1         59.95\n",
       "1621     9130987    35117040    2012-01-02    26464890         1         22.80\n",
       "1640    19723165    35117040    2012-01-02    26464890         1         22.80\n",
       "1644    46216881    35117040    2012-01-02    15168109         1         19.95\n",
       "1658    48162437    35117040    2012-01-02    26441892         1         66.95\n",
       "2787     3467155    35117040    2012-01-03    35447565         2         57.90\n",
       "2792    14219382    35117040    2012-01-03     5307581         1         15.50\n",
       "2819    29519306    35117040    2012-01-03    23417866         1         21.00\n",
       "2825    40586694    35117040    2012-01-03     2032543         2         93.90\n",
       "2829    46867549    35117040    2012-01-03      141052         1         32.95\n",
       "2887    28246578    35117040    2012-01-04    47044011         1         44.95\n",
       "2891     4761418    35117040    2012-01-04    47044011         1         44.95\n",
       "2896    23984574    35117040    2012-01-04    45512815         1         34.95\n",
       "2900    15843185    35117040    2012-01-04    11094043         1         59.95\n",
       "3760     9759724    35117040    2012-01-04    16386984         1         24.95\n",
       "3813    14834912    35117040    2012-01-05    38145225         1         55.96\n",
       "3815    34208448    35117040    2012-01-05      141052         1         32.95\n",
       "3819    30414713    35117040    2012-01-05    26464890         1         22.80\n",
       "3829    34479561    35117040    2012-01-05      141052         1         32.95\n",
       "3831    16057149    35117040    2012-01-05    47044011         1         44.95\n",
       "4178    19205586    35117040    2012-01-05    11458735         1         14.00\n",
       "4993    13527229    35117040    2012-01-05    21103908         1         37.95\n",
       "5006    40122773    35117040    2012-01-05    11681788         2        119.90\n",
       "5013    13476972    35117040    2012-01-05    11681788         1         59.95\n",
       "5028     7801923    35117040    2012-01-05    11458735         1         14.00\n",
       "...          ...         ...           ...         ...       ...           ...\n",
       "530928  26344821    35117040    2013-12-11    29153331         1         24.95\n",
       "530930  15232692    35117040    2013-12-11    29153331         1         24.95\n",
       "530931   2857257    35117040    2013-12-11    49963639         1         49.95\n",
       "532020  12667268    35117040    2013-12-12    29153331         1         24.95\n",
       "532021  43801088    35117040    2013-12-12    29153331         1         24.95\n",
       "532023  48920054    35117040    2013-12-12    49808416         1         26.95\n",
       "532026  36384394    35117040    2013-12-12    29153331         1         24.95\n",
       "532970  27153485    35117040    2013-12-13    23956304         1         33.95\n",
       "532974  26833718    35117040    2013-12-13    26441892         1         49.95\n",
       "532982  24779985    35117040    2013-12-13    10433526         1         94.95\n",
       "534720  44083616    35117040    2013-12-15    23397129         1        159.95\n",
       "534722  24516430    35117040    2013-12-15    37891395         1         94.95\n",
       "535702   5588161    35117040    2013-12-16    26441892         1         49.95\n",
       "535703   8806852    35117040    2013-12-16    21282695         1         43.95\n",
       "535705  27548337    35117040    2013-12-16    26441892         1         49.95\n",
       "536893  24100295    35117040    2013-12-17    49963639         1         57.95\n",
       "536895   2779736    35117040    2013-12-17    26441892         1         74.95\n",
       "536896  34668610    35117040    2013-12-17    23397129         1        159.95\n",
       "537860  12475224    35117040    2013-12-18    49808416         1         26.95\n",
       "537864  26975786    35117040    2013-12-18    26441892         1         74.95\n",
       "538590  37963777    35117040    2013-12-19    49808416         1         26.95\n",
       "538592  12508328    35117040    2013-12-19    30242985         1         99.99\n",
       "539242  11407057    35117040    2013-12-20    11681788         1         53.95\n",
       "540110  21273647    35117040    2013-12-21    49808416         1         26.95\n",
       "540566  28903379    35117040    2013-12-23    49808416         1         26.95\n",
       "540567   9700298    35117040    2013-12-23    49808416         1         26.95\n",
       "541243  28357114    35117040    2013-12-25    26360738         1         29.95\n",
       "543469  14485830    35117040    2013-12-30    26441892         1         47.95\n",
       "543470  33887701    35117040    2013-12-30     5307581         1          9.95\n",
       "543794  34402749    35117040    2013-12-30     5307581         1          9.95\n",
       "\n",
       "[2356 rows x 6 columns]"
      ]
     },
     "execution_count": 78,
     "metadata": {},
     "output_type": "execute_result"
    }
   ],
   "source": [
    "data[data.contact_id == 35117040]"
   ]
  },
  {
   "cell_type": "code",
   "execution_count": null,
   "metadata": {
    "collapsed": true
   },
   "outputs": [],
   "source": []
  }
 ],
 "metadata": {
  "anaconda-cloud": {},
  "kernelspec": {
   "display_name": "Python [conda root]",
   "language": "python",
   "name": "conda-root-py"
  },
  "language_info": {
   "codemirror_mode": {
    "name": "ipython",
    "version": 2
   },
   "file_extension": ".py",
   "mimetype": "text/x-python",
   "name": "python",
   "nbconvert_exporter": "python",
   "pygments_lexer": "ipython2",
   "version": "2.7.12"
  }
 },
 "nbformat": 4,
 "nbformat_minor": 1
}
