{
 "cells": [
  {
   "cell_type": "code",
   "execution_count": 1,
   "metadata": {
    "collapsed": true
   },
   "outputs": [],
   "source": [
    "####\n",
    "# Creator;Maintainer: Tamas Szuromi - tromika@gmail.com\n",
    "# You find the documentation of the model in the CLV notebook\n",
    "####"
   ]
  },
  {
   "cell_type": "code",
   "execution_count": 14,
   "metadata": {
    "collapsed": false
   },
   "outputs": [],
   "source": [
    "import numpy as np\n",
    "import pandas as pd\n",
    "\n",
    "from lifetimes import BetaGeoFitter, ModifiedBetaGeoFitter, GammaGammaFitter\n",
    "from lifetimes.utils import summary_data_from_transaction_data"
   ]
  },
  {
   "cell_type": "code",
   "execution_count": 8,
   "metadata": {
    "collapsed": true
   },
   "outputs": [],
   "source": [
    "# Utilities\n",
    "def dateCorrect(df):\n",
    "    df['purchase_date'] = pd.to_datetime(df['purchase_date'])\n",
    "    return df"
   ]
  },
  {
   "cell_type": "code",
   "execution_count": 17,
   "metadata": {
    "collapsed": true
   },
   "outputs": [],
   "source": [
    "#######\n",
    "# Predictor function\n",
    "######\n",
    "# Fit the Modified Beta and the Gamma gamma models\n",
    "#\n",
    "# Parameters:\n",
    "#            train: training data location (csv expected in the given format)\n",
    "#            test: test data location (csv expected with the same format)\n",
    "#            fcPeriod: forecasted period. The model is using the data on monthly basis to basically it's the forecasted number of months\n",
    "#\n",
    "# Return:\n",
    "#         Predicted sales amount per transactions\n",
    "#         Predicted transactions \n",
    "#         Predicted sales amount\n",
    "#        \n",
    "\n",
    "\n",
    "def predictor(train, test, fcPeriod=12):\n",
    "    train = dateCorrect(pd.read_csv(train))\n",
    "    test = dateCorrect(pd.read_csv(test))\n",
    "    trainFiltered = train[(train.sales_amount>0) & (train.sales_amount<=np.percentile(train['sales_amount'],[99.995])[0]) & (train.quantity<=np.percentile(train['quantity'],[99.99])[0])].groupby(['contact_id', 'order_id']).agg({'sales_amount': np.sum, 'purchase_date':'first'}).reset_index()\n",
    "    testFiltered = test.groupby(['contact_id', 'order_id']).agg({'sales_amount': np.sum, 'purchase_date':'first'}).reset_index()\n",
    "    trainingSet = summary_data_from_transaction_data(trainFiltered, \n",
    "                                                 'contact_id',\n",
    "                                                 'purchase_date',\n",
    "                                                 monetary_value_col= 'sales_amount',\n",
    "                                                 freq='M',\n",
    "                                                 observation_period_end=train['purchase_date'].max())\n",
    "    testSet = summary_data_from_transaction_data(testFiltered, \n",
    "                                                 'contact_id',\n",
    "                                                 'purchase_date',\n",
    "                                                 freq='M',\n",
    "                                                 observation_period_end=test['purchase_date'].max())\n",
    "    \n",
    "    mbgf = ModifiedBetaGeoFitter(penalizer_coef=0.0001)\n",
    "    mbgf.fit(trainingSet['frequency'], trainingSet['recency'], trainingSet['T'])\n",
    "    \n",
    "    ReturningtTrainingSet = trainingSet[trainingSet['frequency']>0]\n",
    "    ggf = GammaGammaFitter(penalizer_coef=0.0001)\n",
    "    ggf.fit(ReturningtTrainingSet['frequency'],\n",
    "        ReturningtTrainingSet['monetary_value'])\n",
    "    monetaryPerTransaction = ggf.conditional_expected_average_profit(\n",
    "            trainingSet['frequency'],\n",
    "            trainingSet['monetary_value']\n",
    "        ).mean()\n",
    "\n",
    "    predTransactions = mbgf.conditional_expected_number_of_purchases_up_to_time(fcPeriod,\n",
    "            testSet['frequency'],\n",
    "            testSet['recency'],\n",
    "            testSet['T']).sum()\n",
    "\n",
    "    print \"Predicted sales amount per transactions: %s, Predicted transactions: %s, Predicted sales amount: %s \" % (\n",
    "        monetaryPerTransaction,\n",
    "        predTransactions,\n",
    "        predTransactions*monetaryPerTransaction\n",
    "    )"
   ]
  },
  {
   "cell_type": "code",
   "execution_count": 18,
   "metadata": {
    "collapsed": false
   },
   "outputs": [
    {
     "name": "stdout",
     "output_type": "stream",
     "text": [
      "Predicted sales amount per transactions: 106.544355994, Predicted transactions: 58680.0565726, Predicted sales amount: 6252028.8372 \n"
     ]
    }
   ],
   "source": [
    "predictor(\"../data/raw/training.csv\",\"../data/raw/training.csv\")"
   ]
  },
  {
   "cell_type": "code",
   "execution_count": null,
   "metadata": {
    "collapsed": true
   },
   "outputs": [],
   "source": []
  }
 ],
 "metadata": {
  "anaconda-cloud": {},
  "kernelspec": {
   "display_name": "Python [conda root]",
   "language": "python",
   "name": "conda-root-py"
  },
  "language_info": {
   "codemirror_mode": {
    "name": "ipython",
    "version": 2
   },
   "file_extension": ".py",
   "mimetype": "text/x-python",
   "name": "python",
   "nbconvert_exporter": "python",
   "pygments_lexer": "ipython2",
   "version": "2.7.12"
  }
 },
 "nbformat": 4,
 "nbformat_minor": 1
}
